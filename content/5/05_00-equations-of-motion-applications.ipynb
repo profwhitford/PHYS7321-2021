{
 "cells": [
  {
   "cell_type": "markdown",
   "id": "qualified-brooklyn",
   "metadata": {},
   "source": [
    "Scattering by a central potential\n",
    "---------------------------------\n",
    "\n",
    "Here, we will investigate classical scattering of a particle of mass $m$ by a central potential. In a scattering event, the\n",
    "particle, with initial kinetic energy $E$ and impact parameter $b$\n",
    "approaches the potential from a large distance. It is deflected during\n",
    "its passage near the force center and eventually emerges with the same\n",
    "energy, but moving at an angle $\\Theta$ with respect to the original\n",
    "direction. This problem is very similar in many aspects to the orbital\n",
    "motion, but in this case the potential is repulsive, and it is not\n",
    "necessarily proportional to the inverse of the distance. The energy\n",
    "and momentum are conserved, and the trajectory lies in the plane.\n",
    "\n",
    "Our basic interest is on the deflection function $\\Theta (b)$, giving\n",
    "the final scattering angle $\\Theta$ as a function of the impact\n",
    "parameter. This function also depends upon the incident energy. The\n",
    "differential cross section for scattering at an angle $\\Theta$,\n",
    "$d\\sigma \n",
    "/ d\\Omega$ is an experimental observable that is related to the\n",
    "deflection function by\n",
    "\n",
    "$$\\frac{d\\sigma}{d\\Omega}=\\frac{b}{\\sin{\\Theta}}\\left|\\frac{db}{d\\Theta}\\right|.\n",
    "$$\n",
    "\n",
    "Thus, if $d\\Theta /db$ can be computed, the cross section is known.\n",
    "\n",
    "Expressions for the deflection function can be found analytically only\n",
    "for a few potentials. Accordingly, numerical methods usually must be\n",
    "employed. There are some simplification that can me made using the fact\n",
    "that the angular momentum is conserved, which connects the angular and\n",
    "the radial motion, making the problem one-dimensional. However, in this\n",
    "section we are going to use the tools learned in the previous sections,\n",
    "and solve for the equations of motion in the $xy$ plane.\n",
    "\n",
    "![scattering](scattering.png)\n",
    "#### Quantities involved in the scattering of a particle by a central potential.\n",
    "\n",
    "In the following we are going to consider a Lennard-Jones potential:\n",
    "$$V(r)=4V_0[(\\frac{a}{r})^{12}-(\\frac{a}{r})^6],\n",
    "$$ The potential is attractive for long distances and\n",
    "strongly repulsive near the core (see Figure),\n",
    "with a minimum occurring at $r_{min}=2^{(1/6)}a$ with a depth $V_0$.\n",
    "\n",
    "![lennard](lennard.png)\n",
    "#### The Lennard-Jones potential\n",
    "\n",
    "### Exercise 3.1 \n",
    "\n",
    "1.  Before beginning any numerical computation, it is important to have\n",
    "    some idea of what the results should look like. Sketch what you\n",
    "    think the deflection function should look like at relatively low\n",
    "    energies, $E \\leq V_0$, where the the peripheral collisions at large\n",
    "    $b$ will take place in a predominantly attractive potential and\n",
    "    the more central collisions will “bounce” against the\n",
    "    repulsive core. What happens at much higher energies $E\\gg V_0$,\n",
    "    where the attractive pocket in $V$ can be neglected? \n",
    "\n",
    "2.  Write a program that calculates, for a given kinetic energy $E$, the\n",
    "    deflection function solving the equations of motion at a number of\n",
    "    equally spaced $b$ values between 0 and $r_{max}$.\n",
    "\n",
    "3.  Use your program to calculate the deflection function for scattering\n",
    "    from a Lennard-Jones potential at selected values of $E$ ranging\n",
    "    from $0.1V_0$ to $100V_0$. Reconcile your answers in step 1) with\n",
    "    the results obtained. Calculate the differential cross sections as\n",
    "    functions of $\\Theta$ at these energies.\n",
    "\n",
    "4.  (extra credit) Depending on how you implemented your routines, you can observe for energies\n",
    "    $E\\leq V_0$ a singularity in the deflection function where $\\Theta$\n",
    "    appear to approach $-\\infty$ at some critical value of $b$,\n",
    "    $b_{crit}$, that depends on $E$. This singularity, which disappears\n",
    "    when $E$ becomes larger than about $V_0$ is characteristic of\n",
    "    “orbiting”, and the scattering angle becomes\n",
    "    logarithmically infinite. What happens is that the particle spends a\n",
    "    very long time spiraling around the center. Calculate some\n",
    "    trajectories around this point and convince yourself that this is\n",
    "    precisely what’s happening. Determine the maximum energy for which\n",
    "    the Lennard-Jones potential exhibits orbiting by solving the correct\n",
    "    set of equations involving $V$ and its derivatives.\n",
    "\n"
   ]
  },
  {
   "cell_type": "markdown",
   "id": "martial-damages",
   "metadata": {},
   "source": [
    "Time-dependent Hamiltonian: Adiabatic Invariants\n",
    "---------------------------------\n",
    "\n",
    "### Exercise 3.2\n",
    "\n",
    "It can be shown that, for periodic motion, the abbreviated action $I$ will remain constant, even if system parameters are varied slowly.  In the case of a harmonic oscillator, the abbreviated action is given by $I=\\pi E/\\omega$, where $\\omega=\\sqrt{\\frac{m}{k}}$. Thus, according to this relation, the initial energy and final energy, after slowly changing a system parameter, will be related as $\\frac{E_0}{\\omega_0}=\\frac{E_1}{\\omega_1}$.  Using the techniques developed in this class, find the energy of a simple harmonic oscillator if the spring constant is slowly increased over time, where the final value is twice the initial.  How close are you to the analytical result?"
   ]
  },
  {
   "cell_type": "markdown",
   "id": "honey-pledge",
   "metadata": {},
   "source": [
    "Relativistic Kepler's Problem\n",
    "---------------------------------\n",
    "\n",
    "### Exercise 3.3\n",
    "\n",
    "In Phys 7301, we considered motion of a particle in a central potential given by $$V=\\frac{k}{r}+\\frac{k'}{r^2}$$  Using Action-Angle variables, it was shown that for specific values of $k$ and $k'$, the orbit would be closed (i.e. n oscillations along r and m rotations in $\\theta$).  For simplicity, consider a particle of unit mass, where $k=1$.  Find 5 values of $k'$ for which the orbit is closed (i.e. the particle returns to the exact same point in phase space at a later time). Note: it can be very helpful to visualize the paths."
   ]
  },
  {
   "cell_type": "markdown",
   "id": "technological-borough",
   "metadata": {},
   "source": [
    "Motion in an anharmonic well\n",
    "---------------------------------\n",
    "\n",
    "### Exercise 3.4\n",
    "\n",
    "In Phys 7301, we considered motion of a particle in 1D that was moving under the influence of the potential $$V=k*x^4$$ Unlike the simple harmonic oscillator, the period of this system will depend on the amplitude.  Using the techniques developed in this class, find the relationship between the period and the amplitude. Show that the timescale diverges as the amplitude approaches zero. "
   ]
  },
  {
   "cell_type": "code",
   "execution_count": null,
   "id": "automatic-prospect",
   "metadata": {},
   "outputs": [],
   "source": []
  }
 ],
 "metadata": {
  "kernelspec": {
   "display_name": "Python 3",
   "language": "python",
   "name": "python3"
  },
  "language_info": {
   "codemirror_mode": {
    "name": "ipython",
    "version": 3
   },
   "file_extension": ".py",
   "mimetype": "text/x-python",
   "name": "python",
   "nbconvert_exporter": "python",
   "pygments_lexer": "ipython3",
   "version": "3.9.4"
  }
 },
 "nbformat": 4,
 "nbformat_minor": 5
}
