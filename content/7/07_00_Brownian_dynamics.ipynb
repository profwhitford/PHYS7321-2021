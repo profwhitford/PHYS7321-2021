{
 "cells": [
  {
   "cell_type": "markdown",
   "id": "played-scanning",
   "metadata": {},
   "source": [
    "\n",
    "\n",
    "\n",
    "# Brownian Dynamics and Correlation Functions\n",
    "\n",
    "We are all familiar with the concept of a Brownian particle.  That is, when tracking microscopic particles, one will notice that they appear to undergo random movements through space.  These motions are the result of countless collisions with the solvent around them.  However, if we were to look at the dynamics with infinite time resolution, one would see that the particles exhibit different stages of the dynamics.  At very short timescales, there is inertia, and the particle will move with constant velocity.  At some later time (possibly very short), the particle collides with other particles and is deflected.  After enough collisions, the velocity of the particle will be uncorrelated with the original velocity, and it will have entered the diffusive (Brownian, Markovian) regime.\n",
    "\n",
    "Here, we will look at an N-body system of particles and we will quantitatively assess the statistical properties of the dynamics.  To begin, we will consider the second moment of an arbitrary quantity $A$:\n",
    "\n",
    "$$\\langle A^2(\\vec x, \\vec p)\\rangle$$\n",
    "\n",
    "This average is taken over every particle/state of the system, where $A^2$ is evaluated at each time point. A common example would be the root mean squared fluctuations of a particle. In that case, $A$ would simply be $x-\\langle x\\rangle$.  \n",
    "\n",
    "While the moments of a function can be interesting, one can extend this idea to consider the covariance of quantities.  For example, we will consider quantities $A$ and $B$, both of which are functions of the coordinates/momenta.  The covariance would then be expressed as:\n",
    "\n",
    "$$\\langle A*B\\rangle$$\n",
    "\n",
    "If the two quantities are uncorrelated, then the covariance would be equal to $\\langle A\\rangle\\langle B\\rangle$. Typically, $A$ and $B$ are defined as fluctuations about their average values, so that their average fluctuations are both 0.\n",
    "\n",
    "Now, rather than consider covariance of two different quantities, let's consider the covariance of a quantity, with itself at a later time.  That is, \n",
    "\n",
    "$$C(\\tau)=\\langle A(t)*A(t+\\tau)\\rangle$$\n",
    "\n",
    "This is known as an ''autocorrelation function'' \n",
    "\n",
    "For a concrete example, let's define $A$ as the velocity of each particle, and the multiplication will be defined as the dot product:\n",
    "\n",
    "$$C(\\tau)=\\langle \\vec v(t) \\cdot \\vec v(t+\\tau)\\rangle$$\n",
    "\n",
    "Now, $C$ will describe the statistical correlation between the velocity at any given time, and the velocity of the same particle at a later time.\n",
    "\n",
    "What does this have to do with diffusion/Brownian/Markovian dynamics?  Well, we may define the diffusive/Brownian/Markovian regime as the timescale over which the velocities of each particle become uncorrelated.  Accordingly, a minimal requirement of being in the diffusive regime is that each particle has ''forgotten'' where it was, or is going.\n",
    "\n",
    "So, what should $C$ look like for a given system?  Well, it depends.  If we are looking at a gas phase system, then the particles will move with constant velocity for an extended period of time, until several collisions have occurred.  If we are looking at a liquid, then we expect the particle to rapidly lose its memory through frequent collisions. Thus, we expect $C(\\tau)$ to decay much faster in liquid. Additionally, we may find that in a dense system (e.g. crystal), the velocities may transiently become anti-correlated. That is, the system is sufficiently dense that the particle ''bounces'' off of the neighbors and tends to reverse course.  This is then repeated...\n",
    "\n",
    "# exercise 5.1\n",
    "\n",
    "- We previously considered a 1D system of particles.  Now, let's extend our code to handle a 3D system with periodic boundary conditions.  For the inter-particle interactions, use the potential $U=\\frac{1}{r^{12}}$ (energy scale is implicit in reduced units). Now, initialize a system with 216 particles in 3D.  Assume the system is cubic. Use a time step of 0.02.  Each particle has mass of 1.0.\n",
    " \n",
    "- Now, define the box to have dimensions of $18^3$. After initializing the velocities, introduce the use of a thermostat. The simplest thermostat will simply rescale the velocities, such that the instantaneous temperature (think equipartition) is exactly enforced. If you are motivated, you can introduce drag and noise, in accordance with the fluctuation-dissipation theorem. This rescaling can then be performed after an integer numbers of step.  For our purposes, rescale the temperature every 100 time steps. Using this approach, initialize a system and use a reference temperature of 0.5. Employ the thermostat for the first 1000 steps and then turn it off (i.e. dynamics with rescaling).  Have you achieved the desired temperature  of 0.5? Is the temperature stable?  If needed, extend this initial thermalization stage, until the temperatures are stable at the desired temperature.\n",
    "\n",
    "- Calculate the velocity autocorrelation function for your system. Tip: It may be worthwhile to save your coordinates and velocities, above, and then write a second program for analysis.\n",
    "\n",
    "- Repeat the above steps for a system of dimensions $6^3$ and $12^3$. How do the autocorrelation functions differ?  Would you think the system is in a liquid or gas phase for each case?\n",
    "\n",
    "- Extra credit: Calculate the mean squared displacement of the particles, as a function of $\\tau$.  If the msd increases linearly, then the system is exhibiting diffusive behavior.  If it increases as $\\tau^2$, this would be indicative of the so-called ballistic regime. If the msd does reached an asymptote, then it would be suggestive of a crystalline state.\n",
    "\n"
   ]
  },
  {
   "cell_type": "code",
   "execution_count": null,
   "id": "placed-execution",
   "metadata": {},
   "outputs": [],
   "source": []
  }
 ],
 "metadata": {
  "kernelspec": {
   "display_name": "Python 3",
   "language": "python",
   "name": "python3"
  },
  "language_info": {
   "codemirror_mode": {
    "name": "ipython",
    "version": 3
   },
   "file_extension": ".py",
   "mimetype": "text/x-python",
   "name": "python",
   "nbconvert_exporter": "python",
   "pygments_lexer": "ipython3",
   "version": "3.9.4"
  }
 },
 "nbformat": 4,
 "nbformat_minor": 5
}
