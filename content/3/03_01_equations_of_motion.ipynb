{
 "cells": [
  {
   "cell_type": "markdown",
   "id": "fossil-religious",
   "metadata": {},
   "source": [
    "Equations of motion (2nd order ODEs)\n",
    "------------------------------------\n",
    "\n",
    "We know that the motion of an object is determined by Newton’s\n",
    "equations. In the one-dimensional case, we can define the instantaneous\n",
    "position $y(t)$, velocity $v(t)$ and acceleration $a(t)$ of an object\n",
    "using the language of differential calculus: $$v(t)=\\frac{dy}{dt},\n",
    "a(t)=\\frac{dv}{dt}.\n",
    "$$ The motion of the particle is defined by:\n",
    "$$\\frac{d^2y}{dt^2}=\\frac{F(t)}{m}$$ This is a second order differential\n",
    "equation that can written as two first order differential equations:\n",
    "$$\\begin{eqnarray}\n",
    "\\frac{dv}{dt}&=&\\frac{F(t)}{m}; \\\\\n",
    "\\frac{dy}{dt}&=&v(t).\\end{eqnarray}$$ To solve it we can apply any of\n",
    "the methods described in the previous sections. If we pick Euler’s, we\n",
    "obtain: $$\\begin{eqnarray}\n",
    "v_{n+1}&=&v_n+\\frac{F(t)}{m}\\Delta t = v_n+a_n\\Delta t, \\\\\n",
    "y_{n+1}&=&y_n+v_n\\Delta t,\n",
    "\\end{eqnarray}$$ where $a_n=F(t)/m$.\n",
    "\n",
    "We will also consider usage of a modified form, called Euler-Cromer, which is symplectic (i.e. designed for Hamiltonian systems): \n",
    "\n",
    "$$\\begin{eqnarray}\n",
    "v_{n+1}&=& v_n+a_n\\Delta t\\\\\n",
    "y_{n+1}&=&y_n+v_{n+1}\\Delta t\n",
    "\\end{eqnarray}$$\n",
    "\n",
    "The only difference in E-C is that the velocity at $v_{n+1}$ is used.  This can be proven to conserve energy, while Euler does not.\n",
    "\n",
    "### Example: One dimensional motion\n",
    "Write a program to solve the 1d equations of motion for a falling\n",
    "object. Input values: $y_0=y(t=0)$; $v_0=v(t=0)$. Compare results with\n",
    "different $\\Delta t$ and the exact solution. Plot $y(t)$ and $v(t)$. Use\n",
    "$y_0=10m$; $v_0=0$.\n",
    "\n"
   ]
  },
  {
   "cell_type": "markdown",
   "id": "shaped-layer",
   "metadata": {},
   "source": [
    "This is a good time to introduce the concept of **objects** and object-oriented programming in Python. We will first define a class \"**particle**\""
   ]
  },
  {
   "cell_type": "code",
   "execution_count": null,
   "id": "handy-scroll",
   "metadata": {},
   "outputs": [],
   "source": [
    "class particle(object):\n",
    "    \n",
    "    def __init__(self, mass=1., y=0., v=0.):\n",
    "        self.mass = mass\n",
    "        self.y = y\n",
    "        self.v = v\n",
    "        \n",
    "    def euler(self, f, dt):\n",
    "        self.y = self.y + self.v*dt\n",
    "        self.v = self.v + f/self.mass*dt\n",
    "        \n",
    "    def euler_cromer(self, f, dt):\n",
    "        self.v = self.v + f/self.mass*dt\n",
    "        self.y = self.y + self.v*dt\n"
   ]
  },
  {
   "cell_type": "markdown",
   "id": "cardiovascular-google",
   "metadata": {},
   "source": [
    "In the above definition of a **class**, a **particle** is constructed (i.e. created) with the information given with init. We also define two methods for updating the position (euler and E-C).\n",
    "\n",
    "In this case, we can create a new object of the class **particle** and initialize it with a mass, position and velocity, as in the line below:"
   ]
  },
  {
   "cell_type": "code",
   "execution_count": null,
   "id": "biological-thing",
   "metadata": {},
   "outputs": [],
   "source": [
    "AnObjectOfClassParticle = particle(1.0, 4.1, -0.2)"
   ]
  },
  {
   "cell_type": "markdown",
   "id": "acute-vocabulary",
   "metadata": {},
   "source": [
    "Using this **class**, it can be simpler to keep track of positions and update them.  Let's set up a free-falling particle.  Gravity is uniform (-g), the mass is 0.01kg and the initial position is 300m"
   ]
  },
  {
   "cell_type": "code",
   "execution_count": null,
   "id": "parental-tunnel",
   "metadata": {},
   "outputs": [],
   "source": [
    "%matplotlib inline\n",
    "import numpy as np\n",
    "from matplotlib import pyplot\n",
    "\n",
    "g = 9.8            # g acceleration\n",
    "mass = 0.01        # mass of the particle\n",
    "y0 = 300.          # initial position\n",
    "v0 = 0.            # initial velocity\n",
    "vt = 30.           # terminal velocity\n",
    "\n",
    "dt = 0.5           # time step\n",
    "\n",
    "gforce = g*mass    # weight\n",
    "\n",
    "p = particle(mass, y0, v0)\n",
    "\n",
    "y = [y0] # since we do not know the size of the arrays, we define first a python list\n",
    "v = [v0] # the append method is more efficient for lists than arrays\n",
    "t = [0.]\n",
    "\n",
    "while p.y > 0.:\n",
    "    fy = -gforce\n",
    "    p.euler(fy, dt)\n",
    "    y.append(p.y)\n",
    "    v.append(p.v)\n",
    "    t.append(t[-1]+dt)\n",
    "    \n",
    "t_data = np.array(t) # we convert the list into a numpy array for plotting\n",
    "y_data = np.array(y)\n",
    "v_data = np.array(v)\n",
    "\n",
    "pyplot.plot(t_data, v_data, color=\"#FF0000\", ls='-', lw=3)\n",
    "pyplot.xlabel('time(s)')\n",
    "pyplot.ylabel('velocity(m/s)');"
   ]
  },
  {
   "cell_type": "code",
   "execution_count": null,
   "id": "coordinated-powell",
   "metadata": {},
   "outputs": [],
   "source": [
    "pyplot.plot(t_data, y_data, color=\"#0000FF\", ls='-', lw=3)\n",
    "pyplot.ylabel('position(m)');\n",
    "pyplot.xlabel('time(s)');"
   ]
  },
  {
   "cell_type": "markdown",
   "id": "tender-wallace",
   "metadata": {},
   "source": [
    "### Exercise 1.2: Air resistance \n",
    "The form of the velocity-dependent force of the resistance of the air is\n",
    "given by $$F_d=kv$$ where $k$ is a parameter that depends on the\n",
    "properties of the medium and the shape of the object. Since $F$\n",
    "increases as $v$ increases, there is a limiting velocity at which\n",
    "$F_d=F_g=mg$ and the acceleration vanishes:\n",
    "$$kv_t=mg \\Rightarrow v_t=\\frac{mg}{k}$$ In terms of the terminal speed,\n",
    "the force $F_d$ can be rewritten as $$F_d=mg(\\frac{v}{v_t}).$$ Hence,\n",
    "the net force on a falling object is: $$F=mg(1-\\frac{v}{v_t})$$\n",
    "\n",
    "1.  Sometimes, the force $F_d$ can vary with the square of the velocity $$F_d=k_2 v^2.$$ Using this definition of $F_d$, express the net force on a falling object, in units of the terminal velocity $v_t$ (i.e. find $k_2$).\n",
    "\n",
    "2.  Compute the speed at which a pebble of mass $m=10^{-2}kg$ reaches\n",
    "    the ground if it’s dropped from rest at $y_0=50m$. Assume that the drag force is proportional to $v^2$ and the terminal speed is $v_t=30m/s$. Compare this\n",
    "    speed to that of a freely falling object under the same conditions.\n",
    "        \n",
    "3.  For the same initial conditions above, using numerical strategies, show which case would take longer to reach terminal velocity: linear drag or drag that scales with the square of the velocity.  Explain your conclusion.\n",
    "\n",
    "4.  Suppose that an object is thrown vertically upward with initial\n",
    "    velocity $v_0$. If we neglect air resistance, we know that the\n",
    "    maximum height reached by the object is $v_0^2/2g$, and its velocity\n",
    "    upon return to the earth equals $-v_0$, the time of ascent equals the\n",
    "    time of descent, and the total time in the air is $2v_0/g$. Before\n",
    "    performing a numerical simulation, give a simple qualitative\n",
    "    analysis of the problem when the resistance of\n",
    "    the air is included. Then, perform, the numerical calculation assuming\n",
    "    $F_d \\sim v^2$ with a terminal speed $v_t=30m/s$. Suggestions:\n",
    "    Choose $v>0$ when it’s pointing upward, and $v<0$ when it’s pointing\n",
    "    toward the earth.\n",
    "\n"
   ]
  },
  {
   "cell_type": "markdown",
   "id": "revised-viking",
   "metadata": {},
   "source": [
    "### Exercise 1.3: Harmonic oscillator \n",
    "\n",
    "The two coupled first order equations\n",
    "$$\\frac{dy}{dt}=p; \\frac{dp}{dt}=-4\\pi ^2 y$$ define a harmonic\n",
    "oscillator with period $T=1$. \n",
    "\n",
    "1.  Using the Euler approach, compute the position $y$ and momentum $p$ as a function of time using a generalization of the previous code. Plot the results for $y_0=1$ and $p_0$=0. For different timestep size, investigate the accuracy with which the system returns to the initial state $t=1$.  Compare $dt=0.1,0.01,...10^{-6}$\n",
    "\n",
    "2.  Extend the trajectory in step 1 for 1000 oscillations and check the position at integer values of time.\n",
    "\n",
    "3.  Compare the accuracy at integer values of time when using the E-C algorithm.\n",
    "\n",
    "4.  Plot the energy as a function of time for both sets of trajectories (Euler and E-C).\n",
    "\n"
   ]
  },
  {
   "cell_type": "code",
   "execution_count": null,
   "id": "delayed-violence",
   "metadata": {},
   "outputs": [],
   "source": []
  }
 ],
 "metadata": {
  "kernelspec": {
   "display_name": "Python 3",
   "language": "python",
   "name": "python3"
  },
  "language_info": {
   "codemirror_mode": {
    "name": "ipython",
    "version": 3
   },
   "file_extension": ".py",
   "mimetype": "text/x-python",
   "name": "python",
   "nbconvert_exporter": "python",
   "pygments_lexer": "ipython3",
   "version": "3.9.4"
  }
 },
 "nbformat": 4,
 "nbformat_minor": 5
}
