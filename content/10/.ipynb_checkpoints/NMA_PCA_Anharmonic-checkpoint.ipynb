{
 "cells": [
  {
   "cell_type": "markdown",
   "id": "alike-horizon",
   "metadata": {},
   "source": [
    "## Normal Modes, Principal Components, Anharmonic interactions and Mode Mixing\n",
    "In this segment, we will consider some assumptions when describing collective oscillations.  In the previous segment, we considered a string of masses connected by springs.  We then simulated the system and found the principal components, which describe standing waves.\n",
    "\n",
    "Now, let's consider normal modes.  In classical mechanics, we considered a Lagrangian: $L=T-V$, where $V$ is the potential energy. We then considered a Taylor expansion of the Lagrangian about a potential energy minimum:\n",
    "$$L=\\frac{T_{ij}}{2} \\frac{\\partial q_i}{\\partial t}\\frac{\\partial q_j}{\\partial t}- \\frac{V_{ij}}{2}q_i q_j +O(3)$$\n",
    "Here, $q_i$ denotes the deviation of the system from the minimum along coordinate $i$, and $V_{ij}$ is the second partial derivative of the potential energy (i.e. the Hessian). Under these conditions, it can be shown that it is always possible to apply a linear transformation of the coordinates, such that the new Lagrangian is:\n",
    "$$L=\\frac{1}{2} \\left(\\frac{\\partial Q_i}{\\partial t} \\right)^2 - \\frac{\\lambda}{2} Q_i^2 +O(3)$$\n",
    "In words: the dynamics of the system may be described as N uncoupled oscillators, where each oscillator corresponds to collective fluctuations of the system.\n",
    "\n",
    "When thinking about normal modes, one realizes that for purely harmonic potentials, the initial conditions of the system will define the excitation of each normal mode.  Since there is no coupling of the modes (i.e. no higher-order terms in L),  the system will oscillate along each mode with fixed amplitude... indefinitely.  In this case, the principal components will be identical to the normal modes.\n",
    "\n",
    "So, what happens if the potential is not purely harmonic?  Well, if the oscillations are small, then the higher-order terms may be neglected, and the Normal Mode approximation is valid.  However, if the oscillations are larger, then the transformed Lagrangian has the form:\n",
    "\n",
    "$$L=\\frac{1}{2} \\left(\\frac{\\partial Q_i}{\\partial t} \\right)^2 - \\frac{\\lambda}{2} Q_i^2 + C_{ijk}Q_iQ_jQ_k+O(4)$$\n",
    "That is, even though Normal Modes decouple the motion to second order, the system is still anharmonic.  So, the modes are still energetically coupled. As a result, if you were excite just one normal mode, the anharmonic terms lead to coupling, and mode mixing will occur.  Or, energy will be transferred from the excited mode to the other modes.\n",
    "\n",
    "Let's explore this idea of mode mixing:\n",
    "\n",
    "## Exercise:\n",
    "\n",
    "\n",
    "For all steps below, simulate the system for 100,000 steps of size 0.02.  When developing your code, it is recommended that you simulated smaller systems (e.g. 10 particles)\n",
    "\n",
    "- Last class we developed code for simulating a string of masses connected by harmonic potentials. Let's modify the code a bit. We will only consider motion along x.  Now, define the potential for the system in the following way:\n",
    "\n",
    "$$U=\\sum_{i}\\frac{1}{2}(x_{i+1}-x_{i}-1)^2$$\n",
    "\n",
    "That is, instead of having nature lengths of 0, we are giving each spring a natural length of 1.\n",
    "\n",
    "- As with the previous homework, the masses will be evenly spaced at their natural length, where the first and last masses interact with immobile walls. Calculate the normal modes of the system (unnormalized). Since we are using unit mass for each particle, the eigenvalue problem can be simplified (simply diagonalize the Hessian Matrix). The resulting eigenvectors should resemble standing waves. To verify your calculation is working, calculate the modes for a system with 100 particles. View the modes graphically by plotting the component of each vector as a function of the particle number. Inspect the first 5 lowest eigenvalue modes.\n",
    "\n",
    "- Once you are convinced your normal mode calculations are working, go back and simulate a system of 100 masses. Initiate your system with zero velocity, where the initial configuration corresponds to a displacement along the first mode. (i.e. eigenvector multiplied by $\\delta = 0.5$) Simulate your system and visibly ensure that the motion of the system remains periodic and at a single frequency.\n",
    "\n",
    "- If you think your system is fixed in one mode, then calculate the projection along that mode as a function of time.  If everything is working properly, you should see nice oscillatory behavior along the mode.  If not, go back and figure out what is wrong.\n",
    "\n",
    "- Repeat the last step, only intialize the system along the second normal mode. Verify motion is only along this mode.\n",
    "\n",
    "- Repeat the last step, only intialize the system along a superposition of modes 1 and 2. Verify the motion is described by two uncoupled oscillations along these modes.\n",
    "\n",
    "- Repeat the last step using $\\delta$ of 1.  Do you see any differences with the case of 0.5? Explain why they are the same, or different.\n",
    "\n",
    "- Now, we are going to consider an anharmonic potential.\n",
    "$$U=\\sum_{i}\\frac{1}{2}(x_{i+1}-x_{i}-1)^2 + \\sum_{i}\\frac{1}{4}\\left(\\frac{x_{i+1}-x_{i}-1}{0.5}\\right)^2$$\n",
    "Find the normal modes for this new system and initialize a system where the displacement are along the first mode (zero velocity, $\\delta =0.1$). Repeat using a displacement along the second mode. Repeat for a superposition of the first and second modes. Repeat for $\\delta=0.5$.\n",
    "\n",
    "- As with the purely harmonic case, calculate the projection along each mode as a function of time, for each simulation. How have the projections changed from the harmonic case? Can you explain when/why they differ?\n",
    "\n",
    "\n",
    "\n",
    "\n",
    "\n",
    "\n"
   ]
  },
  {
   "cell_type": "code",
   "execution_count": null,
   "id": "royal-trust",
   "metadata": {},
   "outputs": [],
   "source": []
  }
 ],
 "metadata": {
  "kernelspec": {
   "display_name": "Python 3",
   "language": "python",
   "name": "python3"
  },
  "language_info": {
   "codemirror_mode": {
    "name": "ipython",
    "version": 3
   },
   "file_extension": ".py",
   "mimetype": "text/x-python",
   "name": "python",
   "nbconvert_exporter": "python",
   "pygments_lexer": "ipython3",
   "version": "3.9.4"
  }
 },
 "nbformat": 4,
 "nbformat_minor": 5
}
